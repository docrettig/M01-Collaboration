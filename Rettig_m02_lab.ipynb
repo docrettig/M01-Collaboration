{
 "cells": [
  {
   "cell_type": "code",
   "execution_count": 4,
   "metadata": {},
   "outputs": [
    {
     "name": "stdout",
     "output_type": "stream",
     "text": [
      "Joe  has made the Dean's List.\n",
      "Bob  has made the Honor roll.\n",
      "Jane  has made the Dean's List.\n"
     ]
    }
   ],
   "source": [
    "# Program: M02 Lab Case Study\n",
    "# Description: Determine if a student is in the Dean's List or Honor Roll\n",
    "# Version: 1.0\n",
    "# Date: March 28, 2024\n",
    "\n",
    "HONOR = 3.25\n",
    "DEANS_LIST = 3.5\n",
    "TERMINATE = \"ZZZ\"\n",
    "\n",
    "studentName = input('Enter Students Name or ZZZ to quit:')\n",
    "\n",
    "while studentName != TERMINATE:\n",
    "    grade = float(input('Enter Student Grade:'))\n",
    "    if grade >= DEANS_LIST:\n",
    "        print(studentName,\" has made the Dean's List.\")\n",
    "    elif grade >= HONOR:\n",
    "        print(studentName,\" has made the Honor roll.\")\n",
    "    studentName = input('Enter Students Name:')\n",
    "\n"
   ]
  },
  {
   "cell_type": "code",
   "execution_count": null,
   "metadata": {},
   "outputs": [],
   "source": []
  }
 ],
 "metadata": {
  "kernelspec": {
   "display_name": "Python 3",
   "language": "python",
   "name": "python3"
  },
  "language_info": {
   "codemirror_mode": {
    "name": "ipython",
    "version": 3
   },
   "file_extension": ".py",
   "mimetype": "text/x-python",
   "name": "python",
   "nbconvert_exporter": "python",
   "pygments_lexer": "ipython3",
   "version": "3.12.2"
  }
 },
 "nbformat": 4,
 "nbformat_minor": 2
}

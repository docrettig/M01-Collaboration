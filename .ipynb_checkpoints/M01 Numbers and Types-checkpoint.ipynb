{
 "cells": [
  {
   "cell_type": "code",
   "execution_count": 1,
   "id": "9ec88bb3-9a11-4433-834a-fb9d2308f268",
   "metadata": {},
   "outputs": [
    {
     "data": {
      "text/plain": [
       "3600"
      ]
     },
     "execution_count": 1,
     "metadata": {},
     "output_type": "execute_result"
    }
   ],
   "source": [
    "# 3.1 Number of seconds in an hour\n",
    "60*60"
   ]
  },
  {
   "cell_type": "code",
   "execution_count": 2,
   "id": "f5df5058-8c74-451f-8263-ea65026e8e81",
   "metadata": {},
   "outputs": [],
   "source": [
    "#3.2 \n",
    "seconds_per_hour = 60*60"
   ]
  },
  {
   "cell_type": "code",
   "execution_count": 3,
   "id": "91660c89-6565-4279-8f67-10b57d63dd0c",
   "metadata": {},
   "outputs": [
    {
     "data": {
      "text/plain": [
       "86400"
      ]
     },
     "execution_count": 3,
     "metadata": {},
     "output_type": "execute_result"
    }
   ],
   "source": [
    "#3.3 Seconds per day calculated using seconds_per_hour variable\n",
    "24*seconds_per_hour"
   ]
  },
  {
   "cell_type": "code",
   "execution_count": 4,
   "id": "172c2a65-3c55-4f13-b911-a17cc4f7065c",
   "metadata": {},
   "outputs": [],
   "source": [
    "#3.4 store seconds per day in seconds_per_day\n",
    "seconds_per_day = 24*seconds_per_hour"
   ]
  },
  {
   "cell_type": "code",
   "execution_count": 5,
   "id": "8e815415-fb7f-467f-abfd-685d2f91d0ff",
   "metadata": {},
   "outputs": [
    {
     "data": {
      "text/plain": [
       "24.0"
      ]
     },
     "execution_count": 5,
     "metadata": {},
     "output_type": "execute_result"
    }
   ],
   "source": [
    "#3.5 divide seconds per day by seconds per hour using floating point division\n",
    "seconds_per_day/seconds_per_hour"
   ]
  },
  {
   "cell_type": "code",
   "execution_count": 6,
   "id": "bb5da75d-0b5c-407b-bfb0-7e8e6db0efe1",
   "metadata": {},
   "outputs": [
    {
     "data": {
      "text/plain": [
       "24"
      ]
     },
     "execution_count": 6,
     "metadata": {},
     "output_type": "execute_result"
    }
   ],
   "source": [
    "#3.6 divide seconds per day by seconds per hour using integer division\n",
    "seconds_per_day//seconds_per_hour"
   ]
  },
  {
   "cell_type": "code",
   "execution_count": null,
   "id": "625aef10-dafc-409b-bf3b-35798195bddb",
   "metadata": {},
   "outputs": [],
   "source": []
  }
 ],
 "metadata": {
  "kernelspec": {
   "display_name": "Python 3 (ipykernel)",
   "language": "python",
   "name": "python3"
  },
  "language_info": {
   "codemirror_mode": {
    "name": "ipython",
    "version": 3
   },
   "file_extension": ".py",
   "mimetype": "text/x-python",
   "name": "python",
   "nbconvert_exporter": "python",
   "pygments_lexer": "ipython3",
   "version": "3.11.7"
  }
 },
 "nbformat": 4,
 "nbformat_minor": 5
}
